{
  "nbformat": 4,
  "nbformat_minor": 0,
  "metadata": {
    "colab": {
      "provenance": [],
      "gpuType": "T4"
    },
    "kernelspec": {
      "name": "python3",
      "display_name": "Python 3"
    },
    "language_info": {
      "name": "python"
    },
    "accelerator": "GPU"
  },
  "cells": [
    {
      "cell_type": "code",
      "execution_count": 6,
      "metadata": {
        "colab": {
          "base_uri": "https://localhost:8080/",
          "height": 712
        },
        "id": "xXbE7zQxW_CG",
        "outputId": "657f8da9-cf73-4c05-d639-093912de61dd"
      },
      "outputs": [
        {
          "output_type": "stream",
          "name": "stdout",
          "text": [
            "Downloading data from https://storage.googleapis.com/tensorflow/tf-keras-datasets/mnist.npz\n",
            "\u001b[1m11490434/11490434\u001b[0m \u001b[32m━━━━━━━━━━━━━━━━━━━━\u001b[0m\u001b[37m\u001b[0m \u001b[1m2s\u001b[0m 0us/step\n",
            "Epoch 1/5\n",
            "\u001b[1m938/938\u001b[0m \u001b[32m━━━━━━━━━━━━━━━━━━━━\u001b[0m\u001b[37m\u001b[0m \u001b[1m9s\u001b[0m 7ms/step - accuracy: 0.8712 - loss: 0.4289 - val_accuracy: 0.9854 - val_loss: 0.0467\n",
            "Epoch 2/5\n",
            "\u001b[1m938/938\u001b[0m \u001b[32m━━━━━━━━━━━━━━━━━━━━\u001b[0m\u001b[37m\u001b[0m \u001b[1m3s\u001b[0m 3ms/step - accuracy: 0.9823 - loss: 0.0556 - val_accuracy: 0.9846 - val_loss: 0.0469\n",
            "Epoch 3/5\n",
            "\u001b[1m938/938\u001b[0m \u001b[32m━━━━━━━━━━━━━━━━━━━━\u001b[0m\u001b[37m\u001b[0m \u001b[1m4s\u001b[0m 4ms/step - accuracy: 0.9885 - loss: 0.0359 - val_accuracy: 0.9878 - val_loss: 0.0394\n",
            "Epoch 4/5\n",
            "\u001b[1m938/938\u001b[0m \u001b[32m━━━━━━━━━━━━━━━━━━━━\u001b[0m\u001b[37m\u001b[0m \u001b[1m4s\u001b[0m 4ms/step - accuracy: 0.9912 - loss: 0.0285 - val_accuracy: 0.9892 - val_loss: 0.0342\n",
            "Epoch 5/5\n",
            "\u001b[1m938/938\u001b[0m \u001b[32m━━━━━━━━━━━━━━━━━━━━\u001b[0m\u001b[37m\u001b[0m \u001b[1m5s\u001b[0m 3ms/step - accuracy: 0.9933 - loss: 0.0213 - val_accuracy: 0.9902 - val_loss: 0.0297\n",
            "\u001b[1m1/1\u001b[0m \u001b[32m━━━━━━━━━━━━━━━━━━━━\u001b[0m\u001b[37m\u001b[0m \u001b[1m0s\u001b[0m 466ms/step\n",
            "True Label: 7\n",
            "Predicted Label: 7\n"
          ]
        },
        {
          "output_type": "display_data",
          "data": {
            "text/plain": [
              "<Figure size 640x480 with 1 Axes>"
            ],
            "image/png": "[encoded data removed]"
          },
          "metadata": {}
        }
      ],
      "source": [
        "import numpy as np\n",
        "import matplotlib.pyplot as plt\n",
        "import tensorflow as tf\n",
        "from tensorflow.keras import layers, models\n",
        "\n",
        "# Step 1: Load and preprocess the MNIST dataset\n",
        "(x_train, y_train), (x_test, y_test) = tf.keras.datasets.mnist.load_data()\n",
        "\n",
        "# Preprocess the data: Normalize the images to [0, 1] and reshape to (28, 28, 1)\n",
        "x_train = x_train.astype('float32') / 255.0\n",
        "x_test = x_test.astype('float32') / 255.0\n",
        "\n",
        "# Reshape images to (28, 28, 1) to match the CNN input shape\n",
        "x_train = x_train.reshape(-1, 28, 28, 1)\n",
        "x_test = x_test.reshape(-1, 28, 28, 1)\n",
        "\n",
        "# Step 2: Define the CNN model\n",
        "model = models.Sequential([\n",
        "    # First convolutional layer with 32 filters of size (3x3)\n",
        "    layers.Conv2D(32, (3, 3), activation='relu', input_shape=(28, 28, 1)),\n",
        "    layers.MaxPooling2D((2, 2)),\n",
        "\n",
        "    # Second convolutional layer with 64 filters of size (3x3)\n",
        "    layers.Conv2D(64, (3, 3), activation='relu'),\n",
        "    layers.MaxPooling2D((2, 2)),\n",
        "\n",
        "    # Third convolutional layer with 64 filters of size (3x3)\n",
        "    layers.Conv2D(64, (3, 3), activation='relu'),\n",
        "\n",
        "    # Flatten the output of the convolutional layers to feed into dense layers\n",
        "    layers.Flatten(),\n",
        "\n",
        "    # Fully connected layer with 64 neurons\n",
        "    layers.Dense(64, activation='relu'),\n",
        "\n",
        "    # Output layer with 10 neurons (one for each digit)\n",
        "    layers.Dense(10, activation='softmax')  # 10 classes (digits 0-9)\n",
        "])\n",
        "\n",
        "# Step 3: Compile the model\n",
        "model.compile(optimizer='adam',\n",
        "              loss='sparse_categorical_crossentropy',  # For integer labels\n",
        "              metrics=['accuracy'])\n",
        "\n",
        "# Step 4: Train the model\n",
        "history = model.fit(x_train, y_train, epochs=5, batch_size=64, validation_data=(x_test, y_test))\n",
        "\n",
        "# Step 5: Now, you can run the prediction code\n",
        "\n",
        "# Select a test image from the test set\n",
        "sample_index = 0  # You can change this index to test other images\n",
        "test_image = x_test[sample_index]\n",
        "test_label = y_test[sample_index]\n",
        "\n",
        "# Reshape the image to match the input shape (28, 28, 1)\n",
        "test_image = test_image.reshape(1, 28, 28, 1)\n",
        "\n",
        "# Predict the class of the image\n",
        "prediction = model.predict(test_image)\n",
        "\n",
        "# Get the predicted label (highest probability)\n",
        "predicted_label = np.argmax(prediction)\n",
        "\n",
        "# Print the result\n",
        "print(f\"True Label: {test_label}\")\n",
        "print(f\"Predicted Label: {predicted_label}\")\n",
        "\n",
        "# Display the image and the prediction\n",
        "plt.imshow(test_image.reshape(28, 28), cmap='gray')\n",
        "plt.title(f\"True Label: {test_label}, Predicted: {predicted_label}\")\n",
        "plt.show()\n"
      ]
    }
  ]
}